{
 "cells": [
  {
   "cell_type": "markdown",
   "metadata": {},
   "source": [
    "# Bitcoin Holdings by Country Heatmap\n",
    "\n",
    "This notebook creates a heatmap visualization showing Bitcoin holdings by different countries.\n",
    "The visualization helps identify which countries hold the most Bitcoin reserves."
   ]
  },
  {
   "cell_type": "code",
   "execution_count": null,
   "metadata": {},
   "outputs": [],
   "source": [
    "import pandas as pd\n",
    "import plotly.express as px\n",
    "import plotly.graph_objects as go\n",
    "import numpy as np\n",
    "\n",
    "# Sample Bitcoin holdings data by country\n",
    "btc_data = {\n",
    "    'country': ['United States', 'China', 'Ukraine', 'United Kingdom', 'Germany',\n",
    "               'El Salvador', 'Finland', 'Georgia', 'Bulgaria', 'Japan',\n",
    "               'Australia', 'France', 'Belgium', 'Estonia', 'Switzerland'],\n",
    "    'btc_holdings': [215000, 194000, 46351, 61000, 49858,\n",
    "                    2381, 1981, 66000, 213519, 17500,\n",
    "                    8000, 9720, 3996, 1025, 855],\n",
    "    'iso_alpha': ['USA', 'CHN', 'UKR', 'GBR', 'DEU',\n",
    "                 'SLV', 'FIN', 'GEO', 'BGR', 'JPN',\n",
    "                 'AUS', 'FRA', 'BEL', 'EST', 'CHE']\n",
    "}\n",
    "\n",
    "# Create DataFrame\n",
    "df = pd.DataFrame(btc_data)\n",
    "print(df.head())"
   ]
  },
  {
   "cell_type": "code",
   "execution_count": null,
   "metadata": {},
   "outputs": [],
   "source": [
    "# Create world map heatmap using Plotly\n",
    "fig = go.Figure(data=go.Choropleth(\n",
    "    locations=df['iso_alpha'],\n",
    "    z=df['btc_holdings'],\n",
    "    text=df['country'],\n",
    "    colorscale='Viridis',\n",
    "    autocolorscale=False,\n",
    "    reversescale=False,\n",
    "    marker_line_color='darkgray',\n",
    "    marker_line_width=0.5,\n",
    "    colorbar_title=\"Bitcoin Holdings\",\n",
    "))\n",
    "\n",
    "fig.update_layout(\n",
    "    title={\n",
    "        'text': 'Bitcoin Holdings by Country',\n",
    "        'x': 0.5,\n",
    "        'xanchor': 'center'\n",
    "    },\n",
    "    geo=dict(\n",
    "        showframe=False,\n",
    "        showcoastlines=True,\n",
    "        projection_type='equirectangular'\n",
    "    ),\n",
    "    width=1000,\n",
    "    height=600\n",
    ")\n",
    "\n",
    "fig.show()"
   ]
  },
  {
   "cell_type": "code",
   "execution_count": null,
   "metadata": {},
   "outputs": [],
   "source": [
    "# Create a bar chart for top 10 countries\n",
    "df_sorted = df.sort_values('btc_holdings', ascending=False).head(10)\n",
    "\n",
    "fig_bar = px.bar(\n",
    "    df_sorted,\n",
    "    x='country',\n",
    "    y='btc_holdings',\n",
    "    title='Top 10 Countries by Bitcoin Holdings',\n",
    "    labels={'btc_holdings': 'Bitcoin Holdings (BTC)', 'country': 'Country'},\n",
    "    color='btc_holdings',\n",
    "    color_continuous_scale='Viridis'\n",
    ")\n",
    "\n",
    "fig_bar.update_layout(\n",
    "    xaxis_tickangle=-45,\n",
    "    height=500,\n",
    "    showlegend=False\n",
    ")\n",
    "\n",
    "fig_bar.show()"
   ]
  },
  {
   "cell_type": "markdown",
   "metadata": {},
   "source": [
    "## Data Analysis Notes\n",
    "\n",
    "- The United States leads with approximately 215,000 BTC\n",
    "- China follows closely with 194,000 BTC\n",
    "- Bulgaria surprisingly ranks high with 213,519 BTC from seized assets\n",
    "- Data represents estimated government/institutional holdings\n",
    "- Actual holdings may vary as governments don't always disclose Bitcoin reserves"
   ]
  }
 ],
 "metadata": {
  "kernelspec": {
   "display_name": "Python 3",
   "language": "python",
   "name": "python3"
  },
  "language_info": {
   "codemirror_mode": {
    "name": "ipython",
    "version": 3
   },
   "file_extension": ".py",
   "mimetype": "text/x-python",
   "name": "python",
   "nbconvert_exporter": "python",
   "pygments_lexer": "ipython3",
   "version": "3.8.5"
  }
 },
 "nbformat": 4,
 "nbformat_minor": 4
}
