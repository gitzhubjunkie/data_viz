{
 "cells": [
  {
   "cell_type": "code",
   "execution_count": null,
   "id": "1aecbd3b",
   "metadata": {},
   "outputs": [],
   "source": [
    "\n",
    "import pandas as pd\n",
    "import matplotlib.pyplot as plt\n",
    "\n",
    "# Load ETH Treasury data\n",
    "url = \"https://raw.githubusercontent.com/gitzhubjunkie/data_viz/main/data/ETH_Treasury_Advanced_Model%20(compiled%20Aug%206)%20-%20ETH_Treasury_Model.csv\"\n",
    "df = pd.read_csv(url)\n",
    "\n",
    "# Select Top 10 companies by 5yr Bullish Return\n",
    "top_n = 10\n",
    "metric = 'Return_Pct_Bull_5y'\n",
    "top_companies = df.nlargest(top_n, metric)\n",
    "top_companies[['Name', 'Ticker', metric, 'Country', 'Market_Cap_M', 'ETH_Holdings']]\n"
   ]
  },
  {
   "cell_type": "code",
   "execution_count": null,
   "id": "299dac89",
   "metadata": {},
   "outputs": [],
   "source": [
    "\n",
    "# Plot\n",
    "plt.figure(figsize=(12, 7))\n",
    "plt.barh(\n",
    "    top_companies['Name'] + ' (' + top_companies['Ticker'] + ')',\n",
    "    top_companies[metric],\n",
    "    color='skyblue'\n",
    ")\n",
    "plt.xlabel('5-Year Bullish Return (%)')\n",
    "plt.title('Top 10 ETH Treasury Companies by Bullish 5-Year Return')\n",
    "plt.tight_layout()\n",
    "plt.show()\n"
   ]
  }
 ],
 "metadata": {},
 "nbformat": 4,
 "nbformat_minor": 5
}
